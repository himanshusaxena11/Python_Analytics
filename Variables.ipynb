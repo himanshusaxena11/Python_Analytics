{
 "cells": [
  {
   "cell_type": "code",
   "execution_count": 2,
   "id": "ad6e3a49",
   "metadata": {},
   "outputs": [],
   "source": [
    "city='gwalior'"
   ]
  },
  {
   "cell_type": "code",
   "execution_count": 3,
   "id": "2723bac7",
   "metadata": {},
   "outputs": [
    {
     "data": {
      "text/plain": [
       "'gwalior'"
      ]
     },
     "execution_count": 3,
     "metadata": {},
     "output_type": "execute_result"
    }
   ],
   "source": [
    "city"
   ]
  },
  {
   "cell_type": "code",
   "execution_count": 4,
   "id": "50b92162",
   "metadata": {},
   "outputs": [],
   "source": [
    "city=\"gwalior\""
   ]
  },
  {
   "cell_type": "code",
   "execution_count": 5,
   "id": "47ad9e12",
   "metadata": {},
   "outputs": [
    {
     "data": {
      "text/plain": [
       "'gwalior'"
      ]
     },
     "execution_count": 5,
     "metadata": {},
     "output_type": "execute_result"
    }
   ],
   "source": [
    "city"
   ]
  },
  {
   "cell_type": "code",
   "execution_count": 6,
   "id": "7fc11f9d",
   "metadata": {},
   "outputs": [
    {
     "data": {
      "text/plain": [
       "str"
      ]
     },
     "execution_count": 6,
     "metadata": {},
     "output_type": "execute_result"
    }
   ],
   "source": [
    "type(city)"
   ]
  },
  {
   "cell_type": "code",
   "execution_count": 7,
   "id": "b5ac6b3e",
   "metadata": {},
   "outputs": [],
   "source": [
    "pin=474006"
   ]
  },
  {
   "cell_type": "code",
   "execution_count": 8,
   "id": "9839051f",
   "metadata": {},
   "outputs": [
    {
     "data": {
      "text/plain": [
       "474006"
      ]
     },
     "execution_count": 8,
     "metadata": {},
     "output_type": "execute_result"
    }
   ],
   "source": [
    "pin"
   ]
  },
  {
   "cell_type": "code",
   "execution_count": 9,
   "id": "6cae0bdc",
   "metadata": {},
   "outputs": [
    {
     "data": {
      "text/plain": [
       "int"
      ]
     },
     "execution_count": 9,
     "metadata": {},
     "output_type": "execute_result"
    }
   ],
   "source": [
    "type(pin)"
   ]
  },
  {
   "cell_type": "code",
   "execution_count": 10,
   "id": "d23b607b",
   "metadata": {},
   "outputs": [],
   "source": [
    "a=3.4"
   ]
  },
  {
   "cell_type": "code",
   "execution_count": 11,
   "id": "510ef3c4",
   "metadata": {},
   "outputs": [],
   "source": [
    "b=1.4"
   ]
  },
  {
   "cell_type": "code",
   "execution_count": 12,
   "id": "4b4fa8ea",
   "metadata": {},
   "outputs": [],
   "source": [
    "c=4.9"
   ]
  },
  {
   "cell_type": "code",
   "execution_count": 14,
   "id": "b65f3035",
   "metadata": {},
   "outputs": [
    {
     "data": {
      "text/plain": [
       "9.7"
      ]
     },
     "execution_count": 14,
     "metadata": {},
     "output_type": "execute_result"
    }
   ],
   "source": [
    "z=a+b+c\n",
    "z"
   ]
  },
  {
   "cell_type": "code",
   "execution_count": 15,
   "id": "d55061ff",
   "metadata": {},
   "outputs": [
    {
     "data": {
      "text/plain": [
       "float"
      ]
     },
     "execution_count": 15,
     "metadata": {},
     "output_type": "execute_result"
    }
   ],
   "source": [
    "type(z)"
   ]
  },
  {
   "cell_type": "code",
   "execution_count": 16,
   "id": "fcb6a424",
   "metadata": {},
   "outputs": [
    {
     "data": {
      "text/plain": [
       "False"
      ]
     },
     "execution_count": 16,
     "metadata": {},
     "output_type": "execute_result"
    }
   ],
   "source": [
    "z>22"
   ]
  },
  {
   "cell_type": "code",
   "execution_count": 18,
   "id": "da691af7",
   "metadata": {},
   "outputs": [
    {
     "data": {
      "text/plain": [
       "True"
      ]
     },
     "execution_count": 18,
     "metadata": {},
     "output_type": "execute_result"
    }
   ],
   "source": [
    "z<22"
   ]
  },
  {
   "cell_type": "code",
   "execution_count": 20,
   "id": "0fd106d0",
   "metadata": {},
   "outputs": [
    {
     "data": {
      "text/plain": [
       "'dosa'"
      ]
     },
     "execution_count": 20,
     "metadata": {},
     "output_type": "execute_result"
    }
   ],
   "source": [
    "dish='dosa'\n",
    "dish"
   ]
  },
  {
   "cell_type": "code",
   "execution_count": 22,
   "id": "f0e9f83c",
   "metadata": {},
   "outputs": [
    {
     "data": {
      "text/plain": [
       "'dosa'"
      ]
     },
     "execution_count": 22,
     "metadata": {},
     "output_type": "execute_result"
    }
   ],
   "source": [
    "restaurant=dish\n",
    "restaurant"
   ]
  },
  {
   "cell_type": "code",
   "execution_count": 24,
   "id": "956d9a2f",
   "metadata": {},
   "outputs": [
    {
     "data": {
      "text/plain": [
       "2976998491760"
      ]
     },
     "execution_count": 24,
     "metadata": {},
     "output_type": "execute_result"
    }
   ],
   "source": [
    "id(dish)"
   ]
  },
  {
   "cell_type": "code",
   "execution_count": 25,
   "id": "d9400a35",
   "metadata": {},
   "outputs": [
    {
     "data": {
      "text/plain": [
       "2976998491760"
      ]
     },
     "execution_count": 25,
     "metadata": {},
     "output_type": "execute_result"
    }
   ],
   "source": [
    "id(restaurant)"
   ]
  },
  {
   "cell_type": "code",
   "execution_count": 26,
   "id": "14450807",
   "metadata": {},
   "outputs": [],
   "source": [
    "dish='momo'"
   ]
  },
  {
   "cell_type": "code",
   "execution_count": 27,
   "id": "87837328",
   "metadata": {},
   "outputs": [
    {
     "data": {
      "text/plain": [
       "2976998498544"
      ]
     },
     "execution_count": 27,
     "metadata": {},
     "output_type": "execute_result"
    }
   ],
   "source": [
    "id(dish)"
   ]
  },
  {
   "cell_type": "code",
   "execution_count": null,
   "id": "822f4084",
   "metadata": {},
   "outputs": [],
   "source": []
  }
 ],
 "metadata": {
  "kernelspec": {
   "display_name": "Python 3 (ipykernel)",
   "language": "python",
   "name": "python3"
  },
  "language_info": {
   "codemirror_mode": {
    "name": "ipython",
    "version": 3
   },
   "file_extension": ".py",
   "mimetype": "text/x-python",
   "name": "python",
   "nbconvert_exporter": "python",
   "pygments_lexer": "ipython3",
   "version": "3.11.5"
  }
 },
 "nbformat": 4,
 "nbformat_minor": 5
}
