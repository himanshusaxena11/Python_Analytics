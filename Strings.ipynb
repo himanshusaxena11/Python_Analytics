{
 "cells": [
  {
   "cell_type": "code",
   "execution_count": 3,
   "id": "7caa4706",
   "metadata": {},
   "outputs": [],
   "source": [
    "first='ram'\n",
    "last='singh'"
   ]
  },
  {
   "cell_type": "code",
   "execution_count": 4,
   "id": "55313875",
   "metadata": {},
   "outputs": [
    {
     "data": {
      "text/plain": [
       "'ram singh'"
      ]
     },
     "execution_count": 4,
     "metadata": {},
     "output_type": "execute_result"
    }
   ],
   "source": [
    "name=first+' '+last\n",
    "name"
   ]
  },
  {
   "cell_type": "code",
   "execution_count": 5,
   "id": "7c4f2d07",
   "metadata": {},
   "outputs": [
    {
     "data": {
      "text/plain": [
       "str"
      ]
     },
     "execution_count": 5,
     "metadata": {},
     "output_type": "execute_result"
    }
   ],
   "source": [
    "type(name)"
   ]
  },
  {
   "cell_type": "code",
   "execution_count": 6,
   "id": "678b12f3",
   "metadata": {},
   "outputs": [],
   "source": [
    "name =f\"{first}  {last}\""
   ]
  },
  {
   "cell_type": "code",
   "execution_count": 7,
   "id": "39c55015",
   "metadata": {},
   "outputs": [
    {
     "data": {
      "text/plain": [
       "'ram  singh'"
      ]
     },
     "execution_count": 7,
     "metadata": {},
     "output_type": "execute_result"
    }
   ],
   "source": [
    "name"
   ]
  },
  {
   "cell_type": "code",
   "execution_count": 12,
   "id": "00be949a",
   "metadata": {},
   "outputs": [],
   "source": [
    "age=12\n",
    "name = f\"{first} {last} is {age} years old\""
   ]
  },
  {
   "cell_type": "code",
   "execution_count": 13,
   "id": "866b00ab",
   "metadata": {},
   "outputs": [
    {
     "data": {
      "text/plain": [
       "'ram singh is 12 years old'"
      ]
     },
     "execution_count": 13,
     "metadata": {},
     "output_type": "execute_result"
    }
   ],
   "source": [
    "name"
   ]
  },
  {
   "cell_type": "code",
   "execution_count": 15,
   "id": "e6a64ca9",
   "metadata": {},
   "outputs": [
    {
     "data": {
      "text/plain": [
       "'r'"
      ]
     },
     "execution_count": 15,
     "metadata": {},
     "output_type": "execute_result"
    }
   ],
   "source": [
    "first[0]"
   ]
  },
  {
   "cell_type": "code",
   "execution_count": 16,
   "id": "bc5dcd99",
   "metadata": {},
   "outputs": [
    {
     "data": {
      "text/plain": [
       "'s'"
      ]
     },
     "execution_count": 16,
     "metadata": {},
     "output_type": "execute_result"
    }
   ],
   "source": [
    "last[0]"
   ]
  },
  {
   "cell_type": "code",
   "execution_count": 18,
   "id": "f7e9de3f",
   "metadata": {},
   "outputs": [
    {
     "data": {
      "text/plain": [
       "'ram sin'"
      ]
     },
     "execution_count": 18,
     "metadata": {},
     "output_type": "execute_result"
    }
   ],
   "source": [
    "name[0:7]"
   ]
  },
  {
   "cell_type": "code",
   "execution_count": 25,
   "id": "ca1e9454",
   "metadata": {},
   "outputs": [
    {
     "data": {
      "text/plain": [
       "'dlo sraey 21 s'"
      ]
     },
     "execution_count": 25,
     "metadata": {},
     "output_type": "execute_result"
    }
   ],
   "source": [
    "name[-1:-15:-1]"
   ]
  },
  {
   "cell_type": "code",
   "execution_count": 26,
   "id": "4fe621ea",
   "metadata": {},
   "outputs": [
    {
     "data": {
      "text/plain": [
       "25"
      ]
     },
     "execution_count": 26,
     "metadata": {},
     "output_type": "execute_result"
    }
   ],
   "source": [
    "len(name)"
   ]
  },
  {
   "cell_type": "code",
   "execution_count": 27,
   "id": "08fbb253",
   "metadata": {},
   "outputs": [
    {
     "ename": "TypeError",
     "evalue": "'str' object does not support item assignment",
     "output_type": "error",
     "traceback": [
      "\u001b[1;31m---------------------------------------------------------------------------\u001b[0m",
      "\u001b[1;31mTypeError\u001b[0m                                 Traceback (most recent call last)",
      "Cell \u001b[1;32mIn[27], line 1\u001b[0m\n\u001b[1;32m----> 1\u001b[0m \u001b[43mfirst\u001b[49m\u001b[43m[\u001b[49m\u001b[38;5;241;43m0\u001b[39;49m\u001b[43m]\u001b[49m\u001b[38;5;241m=\u001b[39m\u001b[38;5;124m'\u001b[39m\u001b[38;5;124ms\u001b[39m\u001b[38;5;124m'\u001b[39m\n",
      "\u001b[1;31mTypeError\u001b[0m: 'str' object does not support item assignment"
     ]
    }
   ],
   "source": [
    "first[0]='s'"
   ]
  },
  {
   "cell_type": "code",
   "execution_count": 28,
   "id": "8a5cfbde",
   "metadata": {},
   "outputs": [],
   "source": [
    "a=\"hello world\""
   ]
  },
  {
   "cell_type": "code",
   "execution_count": 30,
   "id": "7a61a7d6",
   "metadata": {},
   "outputs": [],
   "source": [
    "b=\"he's a good man\""
   ]
  },
  {
   "cell_type": "code",
   "execution_count": 42,
   "id": "232c0064",
   "metadata": {},
   "outputs": [],
   "source": [
    "c='''bjbwefjbjbwejnkgnknkngkwnknwgekngkwkgpojojorp3kfnk2gpmogiigknfknmknfkngkmkgnknkwnkvnknknevbjwejbjbjgbjbjwbgjwbgji   3ii3iti3it\n",
    "i3ihikwknvknwknvjnwjnvjnjnewjvnjnewjvnjnvjnvjnjwnvjnvjnejnvjnjo3jo'''"
   ]
  },
  {
   "cell_type": "code",
   "execution_count": 43,
   "id": "b6ff9184",
   "metadata": {},
   "outputs": [
    {
     "data": {
      "text/plain": [
       "'bjbwefjbjbwejnkgnknkngkwnknwgekngkwkgpojojorp3kfnk2gpmogiigknfknmknfkngkmkgnknkwnkvnknknevbjwejbjbjgbjbjwbgjwbgji   3ii3iti3it\\ni3ihikwknvknwknvjnwjnvjnjnewjvnjnewjvnjnvjnvjnjwnvjnvjnejnvjnjo3jo'"
      ]
     },
     "execution_count": 43,
     "metadata": {},
     "output_type": "execute_result"
    }
   ],
   "source": [
    "c"
   ]
  },
  {
   "cell_type": "code",
   "execution_count": 44,
   "id": "6cc6ecfb",
   "metadata": {},
   "outputs": [
    {
     "data": {
      "text/plain": [
       "False"
      ]
     },
     "execution_count": 44,
     "metadata": {},
     "output_type": "execute_result"
    }
   ],
   "source": [
    "var='df'\n",
    "var in c"
   ]
  },
  {
   "cell_type": "code",
   "execution_count": 45,
   "id": "1f7c48be",
   "metadata": {},
   "outputs": [
    {
     "data": {
      "text/plain": [
       "True"
      ]
     },
     "execution_count": 45,
     "metadata": {},
     "output_type": "execute_result"
    }
   ],
   "source": [
    "var='knf'\n",
    "var in c"
   ]
  },
  {
   "cell_type": "code",
   "execution_count": 47,
   "id": "943d0fed",
   "metadata": {},
   "outputs": [
    {
     "data": {
      "text/plain": [
       "59"
      ]
     },
     "execution_count": 47,
     "metadata": {},
     "output_type": "execute_result"
    }
   ],
   "source": [
    "c.find(var)"
   ]
  },
  {
   "cell_type": "code",
   "execution_count": 48,
   "id": "db0dfc91",
   "metadata": {},
   "outputs": [
    {
     "data": {
      "text/plain": [
       "['__add__',\n",
       " '__class__',\n",
       " '__contains__',\n",
       " '__delattr__',\n",
       " '__dir__',\n",
       " '__doc__',\n",
       " '__eq__',\n",
       " '__format__',\n",
       " '__ge__',\n",
       " '__getattribute__',\n",
       " '__getitem__',\n",
       " '__getnewargs__',\n",
       " '__getstate__',\n",
       " '__gt__',\n",
       " '__hash__',\n",
       " '__init__',\n",
       " '__init_subclass__',\n",
       " '__iter__',\n",
       " '__le__',\n",
       " '__len__',\n",
       " '__lt__',\n",
       " '__mod__',\n",
       " '__mul__',\n",
       " '__ne__',\n",
       " '__new__',\n",
       " '__reduce__',\n",
       " '__reduce_ex__',\n",
       " '__repr__',\n",
       " '__rmod__',\n",
       " '__rmul__',\n",
       " '__setattr__',\n",
       " '__sizeof__',\n",
       " '__str__',\n",
       " '__subclasshook__',\n",
       " 'capitalize',\n",
       " 'casefold',\n",
       " 'center',\n",
       " 'count',\n",
       " 'encode',\n",
       " 'endswith',\n",
       " 'expandtabs',\n",
       " 'find',\n",
       " 'format',\n",
       " 'format_map',\n",
       " 'index',\n",
       " 'isalnum',\n",
       " 'isalpha',\n",
       " 'isascii',\n",
       " 'isdecimal',\n",
       " 'isdigit',\n",
       " 'isidentifier',\n",
       " 'islower',\n",
       " 'isnumeric',\n",
       " 'isprintable',\n",
       " 'isspace',\n",
       " 'istitle',\n",
       " 'isupper',\n",
       " 'join',\n",
       " 'ljust',\n",
       " 'lower',\n",
       " 'lstrip',\n",
       " 'maketrans',\n",
       " 'partition',\n",
       " 'removeprefix',\n",
       " 'removesuffix',\n",
       " 'replace',\n",
       " 'rfind',\n",
       " 'rindex',\n",
       " 'rjust',\n",
       " 'rpartition',\n",
       " 'rsplit',\n",
       " 'rstrip',\n",
       " 'split',\n",
       " 'splitlines',\n",
       " 'startswith',\n",
       " 'strip',\n",
       " 'swapcase',\n",
       " 'title',\n",
       " 'translate',\n",
       " 'upper',\n",
       " 'zfill']"
      ]
     },
     "execution_count": 48,
     "metadata": {},
     "output_type": "execute_result"
    }
   ],
   "source": [
    "dir(c)"
   ]
  },
  {
   "cell_type": "code",
   "execution_count": 49,
   "id": "0dfeb647",
   "metadata": {},
   "outputs": [],
   "source": [
    "r=\"let's go for a walk of 4km\""
   ]
  },
  {
   "cell_type": "code",
   "execution_count": 52,
   "id": "f78b3c80",
   "metadata": {},
   "outputs": [],
   "source": [
    "r=r.replace('4','5')"
   ]
  },
  {
   "cell_type": "code",
   "execution_count": 53,
   "id": "a1c66caa",
   "metadata": {},
   "outputs": [
    {
     "data": {
      "text/plain": [
       "\"let's go for a walk of 5km\""
      ]
     },
     "execution_count": 53,
     "metadata": {},
     "output_type": "execute_result"
    }
   ],
   "source": [
    "r"
   ]
  },
  {
   "cell_type": "code",
   "execution_count": 55,
   "id": "115f557b",
   "metadata": {},
   "outputs": [
    {
     "data": {
      "text/plain": [
       "\"LET'S GO FOR A WALK OF 5KM\""
      ]
     },
     "execution_count": 55,
     "metadata": {},
     "output_type": "execute_result"
    }
   ],
   "source": [
    "r.upper()"
   ]
  },
  {
   "cell_type": "code",
   "execution_count": 56,
   "id": "cc65fb5b",
   "metadata": {},
   "outputs": [
    {
     "data": {
      "text/plain": [
       "\"let's go for a walk of 5km\""
      ]
     },
     "execution_count": 56,
     "metadata": {},
     "output_type": "execute_result"
    }
   ],
   "source": [
    "r.lower()"
   ]
  },
  {
   "cell_type": "code",
   "execution_count": 63,
   "id": "6968981f",
   "metadata": {},
   "outputs": [
    {
     "data": {
      "text/plain": [
       "True"
      ]
     },
     "execution_count": 63,
     "metadata": {},
     "output_type": "execute_result"
    }
   ],
   "source": [
    "'3457'.isdigit()"
   ]
  },
  {
   "cell_type": "code",
   "execution_count": 64,
   "id": "b2b5272a",
   "metadata": {},
   "outputs": [
    {
     "data": {
      "text/plain": [
       "9"
      ]
     },
     "execution_count": 64,
     "metadata": {},
     "output_type": "execute_result"
    }
   ],
   "source": [
    "r.index('for')"
   ]
  },
  {
   "cell_type": "code",
   "execution_count": 69,
   "id": "7278f48c",
   "metadata": {},
   "outputs": [
    {
     "data": {
      "text/plain": [
       "'my marks are 78'"
      ]
     },
     "execution_count": 69,
     "metadata": {},
     "output_type": "execute_result"
    }
   ],
   "source": [
    "text='my marks are'\n",
    "score=78\n",
    "text+' '+str(score)"
   ]
  },
  {
   "cell_type": "code",
   "execution_count": 70,
   "id": "d90f2a7d",
   "metadata": {},
   "outputs": [],
   "source": [
    "e='how\\tyou'"
   ]
  },
  {
   "cell_type": "code",
   "execution_count": 71,
   "id": "08cfca4e",
   "metadata": {},
   "outputs": [
    {
     "data": {
      "text/plain": [
       "'how\\tyou'"
      ]
     },
     "execution_count": 71,
     "metadata": {},
     "output_type": "execute_result"
    }
   ],
   "source": [
    "e"
   ]
  },
  {
   "cell_type": "code",
   "execution_count": 72,
   "id": "fdc6eb5e",
   "metadata": {},
   "outputs": [
    {
     "name": "stdout",
     "output_type": "stream",
     "text": [
      "how\tyou\n"
     ]
    }
   ],
   "source": [
    "print(e)"
   ]
  },
  {
   "cell_type": "code",
   "execution_count": 73,
   "id": "f2b5056b",
   "metadata": {},
   "outputs": [],
   "source": [
    "y='BEEL|IRMR|NJKW|KJKW|JKW'"
   ]
  },
  {
   "cell_type": "code",
   "execution_count": 95,
   "id": "1300812a",
   "metadata": {},
   "outputs": [
    {
     "data": {
      "text/plain": [
       "['BEEL', 'IRMR', 'NJKW', 'KJKW|JKW']"
      ]
     },
     "execution_count": 95,
     "metadata": {},
     "output_type": "execute_result"
    }
   ],
   "source": [
    "y.split('|',maxsplit=3)                        #Only 3 are splitted , result is as it is"
   ]
  },
  {
   "cell_type": "code",
   "execution_count": 99,
   "id": "11add82f",
   "metadata": {},
   "outputs": [],
   "source": [
    "z='  why are you so late '"
   ]
  },
  {
   "cell_type": "code",
   "execution_count": 100,
   "id": "4c69227f",
   "metadata": {},
   "outputs": [
    {
     "data": {
      "text/plain": [
       "'why are you so late'"
      ]
     },
     "execution_count": 100,
     "metadata": {},
     "output_type": "execute_result"
    }
   ],
   "source": [
    "z.strip()"
   ]
  },
  {
   "cell_type": "code",
   "execution_count": 102,
   "id": "29d9fcec",
   "metadata": {},
   "outputs": [
    {
     "data": {
      "text/plain": [
       "False"
      ]
     },
     "execution_count": 102,
     "metadata": {},
     "output_type": "execute_result"
    }
   ],
   "source": [
    "file_name='source.xlsx'\n",
    "file_name.endswith('.csv')"
   ]
  },
  {
   "cell_type": "code",
   "execution_count": 103,
   "id": "f1c2e90d",
   "metadata": {},
   "outputs": [
    {
     "data": {
      "text/plain": [
       "True"
      ]
     },
     "execution_count": 103,
     "metadata": {},
     "output_type": "execute_result"
    }
   ],
   "source": [
    "file_name.endswith('.xlsx')"
   ]
  },
  {
   "cell_type": "code",
   "execution_count": null,
   "id": "07ca5349",
   "metadata": {},
   "outputs": [],
   "source": []
  }
 ],
 "metadata": {
  "kernelspec": {
   "display_name": "Python 3 (ipykernel)",
   "language": "python",
   "name": "python3"
  },
  "language_info": {
   "codemirror_mode": {
    "name": "ipython",
    "version": 3
   },
   "file_extension": ".py",
   "mimetype": "text/x-python",
   "name": "python",
   "nbconvert_exporter": "python",
   "pygments_lexer": "ipython3",
   "version": "3.11.5"
  }
 },
 "nbformat": 4,
 "nbformat_minor": 5
}
